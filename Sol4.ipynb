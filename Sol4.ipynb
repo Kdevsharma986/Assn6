{
 "cells": [
  {
   "cell_type": "code",
   "execution_count": null,
   "id": "6be2d6b9-cc17-43b0-b52d-f20a7a29b3f0",
   "metadata": {},
   "outputs": [],
   "source": [
    "\"\"\"In Python, we can achieve data abstraction using classes and objects. \n",
    "Data abstraction is a fundamental principle of object-oriented programming (OOP) \n",
    "that allows us to hide the internal details of a class from its users and provide a simplified interface to interact with the class.\"\"\""
   ]
  },
  {
   "cell_type": "code",
   "execution_count": 1,
   "id": "5f1374a1-b8dc-4e85-b2f4-7c205d3264b0",
   "metadata": {},
   "outputs": [
    {
     "name": "stdout",
     "output_type": "stream",
     "text": [
      "Toyota\n",
      "Blue\n",
      "Driving...\n",
      "9\n"
     ]
    }
   ],
   "source": [
    "class Car:\n",
    "    def __init__(self, make, model, color):\n",
    "        self.make = make\n",
    "        self.model = model\n",
    "        self.color = color\n",
    "        self.__fuel = 0  # Private attribute\n",
    "\n",
    "    def fill_fuel(self, liters):\n",
    "        self.__fuel += liters\n",
    "\n",
    "    def drive(self):\n",
    "        if self.__fuel > 0:\n",
    "            print(\"Driving...\")\n",
    "            self.__fuel -= 1\n",
    "        else:\n",
    "            print(\"Out of fuel!\")\n",
    "\n",
    "    def get_fuel_level(self):\n",
    "        return self.__fuel\n",
    "\n",
    "\n",
    "# Creating objects of the Car class\n",
    "car1 = Car(\"Toyota\", \"Camry\", \"Red\")\n",
    "car2 = Car(\"Honda\", \"Civic\", \"Blue\")\n",
    "\n",
    "# Accessing attributes and methods of the Car class\n",
    "print(car1.make)  \n",
    "print(car2.color)  \n",
    "\n",
    "car1.fill_fuel(10)\n",
    "car1.drive()  \n",
    "\n",
    "print(car1.get_fuel_level())  \n"
   ]
  },
  {
   "cell_type": "code",
   "execution_count": null,
   "id": "61378b49-4002-4c3c-872b-13b7eb9ba56b",
   "metadata": {},
   "outputs": [],
   "source": []
  }
 ],
 "metadata": {
  "kernelspec": {
   "display_name": "Python 3 (ipykernel)",
   "language": "python",
   "name": "python3"
  },
  "language_info": {
   "codemirror_mode": {
    "name": "ipython",
    "version": 3
   },
   "file_extension": ".py",
   "mimetype": "text/x-python",
   "name": "python",
   "nbconvert_exporter": "python",
   "pygments_lexer": "ipython3",
   "version": "3.10.8"
  }
 },
 "nbformat": 4,
 "nbformat_minor": 5
}
