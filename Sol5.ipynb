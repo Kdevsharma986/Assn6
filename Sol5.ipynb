{
 "cells": [
  {
   "cell_type": "code",
   "execution_count": null,
   "id": "d4c60185-24bd-4523-9fa0-152adbbfe20e",
   "metadata": {},
   "outputs": [],
   "source": [
    "\"\"\"No, we cannot create an instance of an abstract class in Python. \n",
    "An abstract class is a class that is meant to be subclassed and cannot be instantiated on its own.\n",
    "\n",
    "In Python, abstract classes are created using the abc module's ABC (Abstract Base Class) and abstractmethod decorators. \n",
    "The purpose of an abstract class is to provide a blueprint for other classes \n",
    "to inherit from and enforce certain methods to be implemented by its subclasses.\n",
    "\n",
    "Here's an example that demonstrates the creation and usage of an abstract class in Python:\"\"\""
   ]
  },
  {
   "cell_type": "code",
   "execution_count": 1,
   "id": "6af05de8-96d1-4e8a-bfc6-03fa8df908ad",
   "metadata": {},
   "outputs": [
    {
     "name": "stdout",
     "output_type": "stream",
     "text": [
      "Bark!\n",
      "Meow!\n"
     ]
    }
   ],
   "source": [
    "from abc import ABC, abstractmethod\n",
    "\n",
    "class Animal(ABC):\n",
    "    @abstractmethod\n",
    "    def sound(self):\n",
    "        pass\n",
    "\n",
    "class Dog(Animal):\n",
    "    def sound(self):\n",
    "        print(\"Bark!\")\n",
    "\n",
    "class Cat(Animal):\n",
    "    def sound(self):\n",
    "        print(\"Meow!\")\n",
    "\n",
    "# Creating instances of subclasses\n",
    "dog = Dog()\n",
    "cat = Cat()\n",
    "\n",
    "dog.sound()   \n",
    "cat.sound()  \n"
   ]
  },
  {
   "cell_type": "code",
   "execution_count": null,
   "id": "1b6f3cab-3d30-46de-a6f5-8bb6ac789cbb",
   "metadata": {},
   "outputs": [],
   "source": []
  }
 ],
 "metadata": {
  "kernelspec": {
   "display_name": "Python 3 (ipykernel)",
   "language": "python",
   "name": "python3"
  },
  "language_info": {
   "codemirror_mode": {
    "name": "ipython",
    "version": 3
   },
   "file_extension": ".py",
   "mimetype": "text/x-python",
   "name": "python",
   "nbconvert_exporter": "python",
   "pygments_lexer": "ipython3",
   "version": "3.10.8"
  }
 },
 "nbformat": 4,
 "nbformat_minor": 5
}
